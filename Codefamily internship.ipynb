{
 "cells": [
  {
   "cell_type": "markdown",
   "id": "4432b2a9",
   "metadata": {},
   "source": [
    "1.You have to given a String and you have to swap that String In Other words Convert all the lowercase letter into Uppercase letter vice versa"
   ]
  },
  {
   "cell_type": "code",
   "execution_count": 1,
   "id": "0c85f568",
   "metadata": {},
   "outputs": [
    {
     "name": "stdout",
     "output_type": "stream",
     "text": [
      "Karthik is good boY\n",
      "kARTHIK IS GOOD BOy\n"
     ]
    }
   ],
   "source": [
    "def swap_case(s):\n",
    "    num = \"\"\n",
    "    for let in s:\n",
    "        if let.isupper() == True:\n",
    "            num+=(let.lower())\n",
    "        else:\n",
    "            num+=(let.upper())\n",
    "    return num\n",
    "if __name__ == '__main__':\n",
    "    s = input()\n",
    "    result = swap_case(s)\n",
    "    print(result)"
   ]
  },
  {
   "cell_type": "markdown",
   "id": "44363a8a",
   "metadata": {},
   "source": [
    "2.You have to given s String and you have to capitalise first two character of the string Given a full name and you to capitalise the name appropriately"
   ]
  },
  {
   "cell_type": "code",
   "execution_count": 2,
   "id": "de55e485",
   "metadata": {},
   "outputs": [
    {
     "name": "stdout",
     "output_type": "stream",
     "text": [
      "KArthik TItti \n"
     ]
    }
   ],
   "source": [
    "def capitalize_first_two_letters(str1):\n",
    "     str1 = result = str1.title()\n",
    "     result =  \"\"\n",
    "     for word in str1.split():\n",
    "        result += word[:2].upper() + word[2::].lower() +\" \"\n",
    "        \n",
    "     return result[::1] \n",
    "     \n",
    "    \n",
    "print(capitalize_first_two_letters(\"Karthik Titti\"))"
   ]
  },
  {
   "cell_type": "markdown",
   "id": "0c3e48f3",
   "metadata": {},
   "source": [
    "3.You have to given a information about N people.Each person has name .last name ,age,sex,city .Print their names in a specific format in descending order i.e the elder person name should br first printed,iFor the two people of the sane age print theri in orderof input."
   ]
  },
  {
   "cell_type": "code",
   "execution_count": 4,
   "id": "1edae094",
   "metadata": {},
   "outputs": [
    {
     "name": "stdout",
     "output_type": "stream",
     "text": [
      "3\n",
      "Akhil 24 m vizag\n",
      "Karthik 23 m Mumbai\n",
      "Ravi 26 m pune\n",
      "\n",
      "Ravi 26 m pune\n",
      "Akhil 24 m vizag\n",
      "Karthik 23 m Mumbai\n"
     ]
    }
   ],
   "source": [
    "n = int(input())\n",
    "dict = {}\n",
    "for _ in range(n):\n",
    "    p1 = list(map(str,input().split()))\n",
    "    if int(p1[1]) not in dict:\n",
    "        dict[int(p1[1])] = [p1]\n",
    "    elif int(p1[1]) in dict:\n",
    "        dict[int(p1[1])].append(p1)\n",
    "    s = sorted(dict, reverse = True)\n",
    "print()\n",
    "for i in s:\n",
    "    if len(dict[i])<2:\n",
    "        print(\" \".join(dict[i][0]))\n",
    "    else:\n",
    "        for ele in dict[i]:\n",
    "            print(\" \".join(ele))"
   ]
  },
  {
   "cell_type": "code",
   "execution_count": null,
   "id": "9cb5ab2a",
   "metadata": {},
   "outputs": [],
   "source": []
  }
 ],
 "metadata": {
  "kernelspec": {
   "display_name": "Python 3",
   "language": "python",
   "name": "python3"
  },
  "language_info": {
   "codemirror_mode": {
    "name": "ipython",
    "version": 3
   },
   "file_extension": ".py",
   "mimetype": "text/x-python",
   "name": "python",
   "nbconvert_exporter": "python",
   "pygments_lexer": "ipython3",
   "version": "3.8.8"
  }
 },
 "nbformat": 4,
 "nbformat_minor": 5
}
